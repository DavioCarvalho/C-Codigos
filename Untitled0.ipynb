{
  "nbformat": 4,
  "nbformat_minor": 0,
  "metadata": {
    "colab": {
      "provenance": [],
      "authorship_tag": "ABX9TyPRFFLekmXz2lTKD6knNqGx",
      "include_colab_link": true
    },
    "kernelspec": {
      "name": "python3",
      "display_name": "Python 3"
    },
    "language_info": {
      "name": "python"
    }
  },
  "cells": [
    {
      "cell_type": "markdown",
      "metadata": {
        "id": "view-in-github",
        "colab_type": "text"
      },
      "source": [
        "<a href=\"https://colab.research.google.com/github/DavioCarvalho/C-Codigos/blob/main/Untitled0.ipynb\" target=\"_parent\"><img src=\"https://colab.research.google.com/assets/colab-badge.svg\" alt=\"Open In Colab\"/></a>"
      ]
    },
    {
      "cell_type": "code",
      "execution_count": null,
      "metadata": {
        "id": "Da4L5dtDJbjh"
      },
      "outputs": [],
      "source": [
        "// Exemplo de código que calcula a média de todos os alunos da sala com o loop for e\n",
        "// usa *ponteiro e maloc para usar um pedaço de memoria e depois limpar.\n",
        " \n",
        " // Importar bibliotecas\n",
        "\n",
        "#include <stdio.h>\n",
        "#include <stdlib.h>\n",
        "\n",
        " // abrir comando principal\n",
        "\n",
        "int main() {\n",
        "\n",
        "    int qda, i;\n",
        "\n",
        "    float *notas, media, mav3, mediafinal, total_mav3 = 0, total_aprovados = 0;\n",
        "\n",
        "    char nome[40];\n",
        "\n",
        "    notas = (float*) malloc(3 * sizeof(float));\n",
        "\n",
        "\n",
        "    // Digitar a  quantidades de alunos\n",
        "\n",
        "        printf(\"Digite a quantidades de alunos: \");\n",
        "        scanf(\"%i\", &qda);\n",
        "        \n",
        "\n",
        "    // criar loop\n",
        "        for (i = 1; i <= qda; i++){\n",
        "\n",
        "            // ler nome e notas do usuario\n",
        "            printf(\"Digite o nome do %i aluno : \", i);\n",
        "            scanf(\"%s\", nome);\n",
        "\n",
        "            printf(\"Digite a nota da AV1: \");\n",
        "            scanf(\"%f\", &notas[0]);\n",
        "\n",
        "            printf(\"Digite a nota da AV2: \");\n",
        "            scanf(\"%f\", &notas[1]);\n",
        "\n",
        "    // calcular a média das notas\n",
        "    \n",
        "        media = (notas[0] + notas[1]) / 2;\n",
        "\n",
        "    // criar uma condição para aprovado\n",
        "\n",
        "    if (media>=6){ printf(\"\\n %s esta aprovado!!!\\n\", nome);\n",
        "\n",
        "    // imprimir a media de aaprovação de cada aluno\n",
        "\n",
        "    printf(\"\\n Sua media foi %0.1f\\n\\n\", media);\n",
        "\n",
        "    // acumular a média de aprovação de cada aluno\n",
        "\n",
        "    total_aprovados += media;\n",
        "    }\n",
        "\n",
        "    // criar uma condição para Abaixo da média\n",
        "    \n",
        "    else if (media<6) {printf(\"\"\"%s esta com sua media = %0.1f, tera que fazer a AV3. Se o aluno ja fez, por favor digite a nota da AV3: \\n\"\"\", nome, media);\n",
        "        scanf(\"%f\", &notas[2]);\n",
        "        \n",
        "        mav3 = (notas[0] + notas[1] + notas[2]) / 3;\n",
        "\n",
        "        if (mav3>=6){ printf(\"\\n\\n %s  esta aprovado agora, pode ficar sossegado!!!\\n\", nome);}\n",
        "\n",
        "        printf(\" \\n\\na media final de %s agora e %.01f\\n\", nome, mav3);\n",
        "        \n",
        "        // acumular a MAV3 de cada aluno\n",
        "\n",
        "        total_mav3 += mav3;\n",
        "        \n",
        "        }\n",
        "\n",
        "    free(notas);\n",
        "\n",
        "    }\n",
        "\n",
        "    // calcular a media total final de todos os alunos\n",
        "    \n",
        "    if (total_aprovados > 0)\n",
        "    {\n",
        "        mediafinal = (total_aprovados + total_mav3)/ qda; //total_aprovados / (qda - total_mav3);\n",
        "    \n",
        "    printf(\"\\nMedia final dos %d alunos: %.1f\\n\", qda, mediafinal);\n",
        "\n",
        "  }}\n",
        "\n"
      ]
    },
    {
      "cell_type": "code",
      "source": [],
      "metadata": {
        "id": "09bOjx2AJe4l"
      },
      "execution_count": null,
      "outputs": []
    }
  ]
}